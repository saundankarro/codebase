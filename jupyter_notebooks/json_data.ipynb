{
 "cells": [
  {
   "cell_type": "code",
   "execution_count": 1,
   "id": "6b22c157-1c5a-4945-ac8a-738aef5ac3da",
   "metadata": {},
   "outputs": [],
   "source": [
    "import json"
   ]
  },
  {
   "cell_type": "code",
   "execution_count": 2,
   "id": "0c11d2e6-3e83-4eac-bb5c-e90be15c8d84",
   "metadata": {},
   "outputs": [],
   "source": [
    "with open('./source_data.json') as access_json:\n",
    "    read_cont = json.load(access_json)"
   ]
  },
  {
   "cell_type": "code",
   "execution_count": 3,
   "id": "1c2e5b40-82cc-44be-97c8-906918d141f7",
   "metadata": {},
   "outputs": [
    {
     "data": {
      "text/plain": [
       "{'results': [{'_class': 'question',\n",
       "   'course': {'_class': 'course',\n",
       "    'title': 'Angular 7 (formerly Angular 2) - The Complete Guide',\n",
       "    'url': '/the-complete-guide-to-angular-2/'},\n",
       "   'replies': [{'_class': 'answer',\n",
       "     'user': {'_class': 'user',\n",
       "      'display_name': 'Maximilian Schwarzmueller'}}]},\n",
       "  {'_class': 'question',\n",
       "   'course': {'_class': 'course',\n",
       "    'title': 'Angular 7 (formerly Angular 2) - The Complete Guide',\n",
       "    'url': '/the-complete-guide-to-angular-2/'},\n",
       "   'replies': [{'_class': 'answer',\n",
       "     'user': {'_class': 'user', 'display_name': 'Maximilian Schwarzmueller'}},\n",
       "    {'_class': 'answer',\n",
       "     'user': {'_class': 'user', 'display_name': 'Daniel Weat'}}]},\n",
       "  {'_class': 'question',\n",
       "   'course': {'_class': 'course',\n",
       "    'title': 'Angular 7 (formerly Angular 2) - The Complete Guide',\n",
       "    'url': '/the-complete-guide-to-angular-2/'},\n",
       "   'replies': [{'_class': 'answer',\n",
       "     'user': {'_class': 'user', 'display_name': 'Maximilian Schwarzmueller'}},\n",
       "    {'_class': 'answer',\n",
       "     'user': {'_class': 'user', 'display_name': 'Mike Jauranol'}},\n",
       "    {'_class': 'answer',\n",
       "     'user': {'_class': 'user', 'display_name': 'Mike Jauranol'}},\n",
       "    {'_class': 'answer',\n",
       "     'user': {'_class': 'user',\n",
       "      'display_name': 'Maximilian Schwarzmueller'}}]},\n",
       "  {'_class': 'question',\n",
       "   'course': {'_class': 'course',\n",
       "    'title': 'Angular 7 (formerly Angular 2) - The Complete Guide',\n",
       "    'url': '/the-complete-guide-to-angular-2/'},\n",
       "   'replies': [{'_class': 'answer',\n",
       "     'user': {'_class': 'user',\n",
       "      'display_name': 'Maximilian Schwarzmueller'}}]},\n",
       "  {'_class': 'question',\n",
       "   'course': {'_class': 'course',\n",
       "    'title': 'Angular 7 (formerly Angular 2) - The Complete Guide',\n",
       "    'url': '/the-complete-guide-to-angular-2/'},\n",
       "   'replies': [{'_class': 'answer',\n",
       "     'user': {'_class': 'user', 'display_name': 'Maximilian Schwarzmueller'}},\n",
       "    {'_class': 'answer',\n",
       "     'user': {'_class': 'user', 'display_name': 'Bernd Raucher'}},\n",
       "    {'_class': 'answer',\n",
       "     'user': {'_class': 'user',\n",
       "      'display_name': 'Maximilian Schwarzmueller'}}]}]}"
      ]
     },
     "execution_count": 3,
     "metadata": {},
     "output_type": "execute_result"
    }
   ],
   "source": [
    "read_cont"
   ]
  },
  {
   "cell_type": "code",
   "execution_count": 5,
   "id": "762d7c85-dccd-4867-8dcc-2e9f82934719",
   "metadata": {},
   "outputs": [
    {
     "data": {
      "text/plain": [
       "dict"
      ]
     },
     "execution_count": 5,
     "metadata": {},
     "output_type": "execute_result"
    }
   ],
   "source": [
    "type(read_cont)"
   ]
  },
  {
   "cell_type": "code",
   "execution_count": 6,
   "id": "30432742-909f-4a88-b857-8f14b7069576",
   "metadata": {},
   "outputs": [
    {
     "data": {
      "text/plain": [
       "{'results': [{'_class': 'question',\n",
       "   'course': {'_class': 'course',\n",
       "    'title': 'Angular 7 (formerly Angular 2) - The Complete Guide',\n",
       "    'url': '/the-complete-guide-to-angular-2/'},\n",
       "   'replies': [{'_class': 'answer',\n",
       "     'user': {'_class': 'user',\n",
       "      'display_name': 'Maximilian Schwarzmueller'}}]},\n",
       "  {'_class': 'question',\n",
       "   'course': {'_class': 'course',\n",
       "    'title': 'Angular 7 (formerly Angular 2) - The Complete Guide',\n",
       "    'url': '/the-complete-guide-to-angular-2/'},\n",
       "   'replies': [{'_class': 'answer',\n",
       "     'user': {'_class': 'user', 'display_name': 'Maximilian Schwarzmueller'}},\n",
       "    {'_class': 'answer',\n",
       "     'user': {'_class': 'user', 'display_name': 'Daniel Weat'}}]},\n",
       "  {'_class': 'question',\n",
       "   'course': {'_class': 'course',\n",
       "    'title': 'Angular 7 (formerly Angular 2) - The Complete Guide',\n",
       "    'url': '/the-complete-guide-to-angular-2/'},\n",
       "   'replies': [{'_class': 'answer',\n",
       "     'user': {'_class': 'user', 'display_name': 'Maximilian Schwarzmueller'}},\n",
       "    {'_class': 'answer',\n",
       "     'user': {'_class': 'user', 'display_name': 'Mike Jauranol'}},\n",
       "    {'_class': 'answer',\n",
       "     'user': {'_class': 'user', 'display_name': 'Mike Jauranol'}},\n",
       "    {'_class': 'answer',\n",
       "     'user': {'_class': 'user',\n",
       "      'display_name': 'Maximilian Schwarzmueller'}}]},\n",
       "  {'_class': 'question',\n",
       "   'course': {'_class': 'course',\n",
       "    'title': 'Angular 7 (formerly Angular 2) - The Complete Guide',\n",
       "    'url': '/the-complete-guide-to-angular-2/'},\n",
       "   'replies': [{'_class': 'answer',\n",
       "     'user': {'_class': 'user',\n",
       "      'display_name': 'Maximilian Schwarzmueller'}}]},\n",
       "  {'_class': 'question',\n",
       "   'course': {'_class': 'course',\n",
       "    'title': 'Angular 7 (formerly Angular 2) - The Complete Guide',\n",
       "    'url': '/the-complete-guide-to-angular-2/'},\n",
       "   'replies': [{'_class': 'answer',\n",
       "     'user': {'_class': 'user', 'display_name': 'Maximilian Schwarzmueller'}},\n",
       "    {'_class': 'answer',\n",
       "     'user': {'_class': 'user', 'display_name': 'Bernd Raucher'}},\n",
       "    {'_class': 'answer',\n",
       "     'user': {'_class': 'user',\n",
       "      'display_name': 'Maximilian Schwarzmueller'}}]}]}"
      ]
     },
     "execution_count": 6,
     "metadata": {},
     "output_type": "execute_result"
    }
   ],
   "source": [
    "read_cont"
   ]
  },
  {
   "cell_type": "code",
   "execution_count": 8,
   "id": "4b0c38a6-171d-4353-ae16-cd5c1a045d08",
   "metadata": {},
   "outputs": [],
   "source": [
    "question_access = read_cont['results']"
   ]
  },
  {
   "cell_type": "code",
   "execution_count": 9,
   "id": "480064ce-32ae-4095-a2c7-596d85c8e58c",
   "metadata": {},
   "outputs": [
    {
     "data": {
      "text/plain": [
       "list"
      ]
     },
     "execution_count": 9,
     "metadata": {},
     "output_type": "execute_result"
    }
   ],
   "source": [
    "type(question_access)"
   ]
  },
  {
   "cell_type": "code",
   "execution_count": 10,
   "id": "d709983a-97ec-4bb8-bca1-de3cc8280574",
   "metadata": {},
   "outputs": [
    {
     "data": {
      "text/plain": [
       "[{'_class': 'question',\n",
       "  'course': {'_class': 'course',\n",
       "   'title': 'Angular 7 (formerly Angular 2) - The Complete Guide',\n",
       "   'url': '/the-complete-guide-to-angular-2/'},\n",
       "  'replies': [{'_class': 'answer',\n",
       "    'user': {'_class': 'user', 'display_name': 'Maximilian Schwarzmueller'}}]},\n",
       " {'_class': 'question',\n",
       "  'course': {'_class': 'course',\n",
       "   'title': 'Angular 7 (formerly Angular 2) - The Complete Guide',\n",
       "   'url': '/the-complete-guide-to-angular-2/'},\n",
       "  'replies': [{'_class': 'answer',\n",
       "    'user': {'_class': 'user', 'display_name': 'Maximilian Schwarzmueller'}},\n",
       "   {'_class': 'answer',\n",
       "    'user': {'_class': 'user', 'display_name': 'Daniel Weat'}}]},\n",
       " {'_class': 'question',\n",
       "  'course': {'_class': 'course',\n",
       "   'title': 'Angular 7 (formerly Angular 2) - The Complete Guide',\n",
       "   'url': '/the-complete-guide-to-angular-2/'},\n",
       "  'replies': [{'_class': 'answer',\n",
       "    'user': {'_class': 'user', 'display_name': 'Maximilian Schwarzmueller'}},\n",
       "   {'_class': 'answer',\n",
       "    'user': {'_class': 'user', 'display_name': 'Mike Jauranol'}},\n",
       "   {'_class': 'answer',\n",
       "    'user': {'_class': 'user', 'display_name': 'Mike Jauranol'}},\n",
       "   {'_class': 'answer',\n",
       "    'user': {'_class': 'user', 'display_name': 'Maximilian Schwarzmueller'}}]},\n",
       " {'_class': 'question',\n",
       "  'course': {'_class': 'course',\n",
       "   'title': 'Angular 7 (formerly Angular 2) - The Complete Guide',\n",
       "   'url': '/the-complete-guide-to-angular-2/'},\n",
       "  'replies': [{'_class': 'answer',\n",
       "    'user': {'_class': 'user', 'display_name': 'Maximilian Schwarzmueller'}}]},\n",
       " {'_class': 'question',\n",
       "  'course': {'_class': 'course',\n",
       "   'title': 'Angular 7 (formerly Angular 2) - The Complete Guide',\n",
       "   'url': '/the-complete-guide-to-angular-2/'},\n",
       "  'replies': [{'_class': 'answer',\n",
       "    'user': {'_class': 'user', 'display_name': 'Maximilian Schwarzmueller'}},\n",
       "   {'_class': 'answer',\n",
       "    'user': {'_class': 'user', 'display_name': 'Bernd Raucher'}},\n",
       "   {'_class': 'answer',\n",
       "    'user': {'_class': 'user', 'display_name': 'Maximilian Schwarzmueller'}}]}]"
      ]
     },
     "execution_count": 10,
     "metadata": {},
     "output_type": "execute_result"
    }
   ],
   "source": [
    "question_access"
   ]
  },
  {
   "cell_type": "code",
   "execution_count": 11,
   "id": "56abe20a-e40e-4721-8f4b-3d056a531722",
   "metadata": {},
   "outputs": [
    {
     "data": {
      "text/plain": [
       "{'_class': 'question',\n",
       " 'course': {'_class': 'course',\n",
       "  'title': 'Angular 7 (formerly Angular 2) - The Complete Guide',\n",
       "  'url': '/the-complete-guide-to-angular-2/'},\n",
       " 'replies': [{'_class': 'answer',\n",
       "   'user': {'_class': 'user', 'display_name': 'Maximilian Schwarzmueller'}},\n",
       "  {'_class': 'answer',\n",
       "   'user': {'_class': 'user', 'display_name': 'Daniel Weat'}}]}"
      ]
     },
     "execution_count": 11,
     "metadata": {},
     "output_type": "execute_result"
    }
   ],
   "source": [
    "question_access[1]"
   ]
  },
  {
   "cell_type": "code",
   "execution_count": 12,
   "id": "586733e9-fef9-4190-9dbb-7e13a83bdddc",
   "metadata": {},
   "outputs": [
    {
     "name": "stdout",
     "output_type": "stream",
     "text": [
      "{'_class': 'question', 'course': {'_class': 'course', 'title': 'Angular 7 (formerly Angular 2) - The Complete Guide', 'url': '/the-complete-guide-to-angular-2/'}, 'replies': [{'_class': 'answer', 'user': {'_class': 'user', 'display_name': 'Maximilian Schwarzmueller'}}]}\n",
      "{'_class': 'question', 'course': {'_class': 'course', 'title': 'Angular 7 (formerly Angular 2) - The Complete Guide', 'url': '/the-complete-guide-to-angular-2/'}, 'replies': [{'_class': 'answer', 'user': {'_class': 'user', 'display_name': 'Maximilian Schwarzmueller'}}, {'_class': 'answer', 'user': {'_class': 'user', 'display_name': 'Daniel Weat'}}]}\n",
      "{'_class': 'question', 'course': {'_class': 'course', 'title': 'Angular 7 (formerly Angular 2) - The Complete Guide', 'url': '/the-complete-guide-to-angular-2/'}, 'replies': [{'_class': 'answer', 'user': {'_class': 'user', 'display_name': 'Maximilian Schwarzmueller'}}, {'_class': 'answer', 'user': {'_class': 'user', 'display_name': 'Mike Jauranol'}}, {'_class': 'answer', 'user': {'_class': 'user', 'display_name': 'Mike Jauranol'}}, {'_class': 'answer', 'user': {'_class': 'user', 'display_name': 'Maximilian Schwarzmueller'}}]}\n",
      "{'_class': 'question', 'course': {'_class': 'course', 'title': 'Angular 7 (formerly Angular 2) - The Complete Guide', 'url': '/the-complete-guide-to-angular-2/'}, 'replies': [{'_class': 'answer', 'user': {'_class': 'user', 'display_name': 'Maximilian Schwarzmueller'}}]}\n",
      "{'_class': 'question', 'course': {'_class': 'course', 'title': 'Angular 7 (formerly Angular 2) - The Complete Guide', 'url': '/the-complete-guide-to-angular-2/'}, 'replies': [{'_class': 'answer', 'user': {'_class': 'user', 'display_name': 'Maximilian Schwarzmueller'}}, {'_class': 'answer', 'user': {'_class': 'user', 'display_name': 'Bernd Raucher'}}, {'_class': 'answer', 'user': {'_class': 'user', 'display_name': 'Maximilian Schwarzmueller'}}]}\n"
     ]
    }
   ],
   "source": [
    "for question in question_access:\n",
    "    print(question)"
   ]
  },
  {
   "cell_type": "code",
   "execution_count": 13,
   "id": "9ade14a1-be3d-4859-9439-682f4935625d",
   "metadata": {},
   "outputs": [
    {
     "data": {
      "text/plain": [
       "dict"
      ]
     },
     "execution_count": 13,
     "metadata": {},
     "output_type": "execute_result"
    }
   ],
   "source": [
    "type(question)"
   ]
  },
  {
   "cell_type": "code",
   "execution_count": 14,
   "id": "61975e6b-abb8-4f22-ae7c-655f812c80d5",
   "metadata": {},
   "outputs": [],
   "source": [
    "replies_access = question['replies']"
   ]
  },
  {
   "cell_type": "code",
   "execution_count": 15,
   "id": "1a6e4035-8242-4ea6-bb57-a672e855c5d1",
   "metadata": {},
   "outputs": [
    {
     "data": {
      "text/plain": [
       "[{'_class': 'answer',\n",
       "  'user': {'_class': 'user', 'display_name': 'Maximilian Schwarzmueller'}},\n",
       " {'_class': 'answer',\n",
       "  'user': {'_class': 'user', 'display_name': 'Bernd Raucher'}},\n",
       " {'_class': 'answer',\n",
       "  'user': {'_class': 'user', 'display_name': 'Maximilian Schwarzmueller'}}]"
      ]
     },
     "execution_count": 15,
     "metadata": {},
     "output_type": "execute_result"
    }
   ],
   "source": [
    "replies_access"
   ]
  },
  {
   "cell_type": "code",
   "execution_count": 16,
   "id": "d27f845b-0330-4009-bc69-18915f9979cf",
   "metadata": {},
   "outputs": [
    {
     "name": "stdout",
     "output_type": "stream",
     "text": [
      "{'_class': 'answer', 'user': {'_class': 'user', 'display_name': 'Maximilian Schwarzmueller'}}\n",
      "{'_class': 'answer', 'user': {'_class': 'user', 'display_name': 'Bernd Raucher'}}\n",
      "{'_class': 'answer', 'user': {'_class': 'user', 'display_name': 'Maximilian Schwarzmueller'}}\n"
     ]
    }
   ],
   "source": [
    "for replies in replies_access:\n",
    "    print(replies)"
   ]
  },
  {
   "cell_type": "code",
   "execution_count": 17,
   "id": "c1e88b49-f5f7-4836-8333-03d902a8d5d8",
   "metadata": {},
   "outputs": [],
   "source": [
    "user_name = replies['user']['display_name']"
   ]
  },
  {
   "cell_type": "code",
   "execution_count": 18,
   "id": "258f067e-6200-47fd-9f0f-a8e921432d59",
   "metadata": {},
   "outputs": [
    {
     "data": {
      "text/plain": [
       "'Maximilian Schwarzmueller'"
      ]
     },
     "execution_count": 18,
     "metadata": {},
     "output_type": "execute_result"
    }
   ],
   "source": [
    "user_name"
   ]
  },
  {
   "cell_type": "code",
   "execution_count": 35,
   "id": "653b7fe8-b308-40f7-bac6-18dfd533391f",
   "metadata": {},
   "outputs": [],
   "source": [
    "def get_usernames():\n",
    "    question_access = read_cont['results']\n",
    "    for question in question_access:\n",
    "        replies_access = question['replies']\n",
    "        for replies in replies_access:\n",
    "            user_name = replies['user']['display_name']\n",
    "            save_data.append(user_name)\n",
    "            print(user_name)"
   ]
  },
  {
   "cell_type": "code",
   "execution_count": 36,
   "id": "8e981b6e-bb47-4c2c-ba94-8e1d7d048a4d",
   "metadata": {},
   "outputs": [
    {
     "name": "stdout",
     "output_type": "stream",
     "text": [
      "Maximilian Schwarzmueller\n",
      "Maximilian Schwarzmueller\n",
      "Daniel Weat\n",
      "Maximilian Schwarzmueller\n",
      "Mike Jauranol\n",
      "Mike Jauranol\n",
      "Maximilian Schwarzmueller\n",
      "Maximilian Schwarzmueller\n",
      "Maximilian Schwarzmueller\n",
      "Bernd Raucher\n",
      "Maximilian Schwarzmueller\n"
     ]
    }
   ],
   "source": [
    "get_usernames()"
   ]
  },
  {
   "cell_type": "code",
   "execution_count": 37,
   "id": "ddd42068-9454-452e-88ab-716356b1e080",
   "metadata": {},
   "outputs": [
    {
     "data": {
      "text/plain": [
       "['Maximilian Schwarzmueller',\n",
       " 'Maximilian Schwarzmueller',\n",
       " 'Daniel Weat',\n",
       " 'Maximilian Schwarzmueller',\n",
       " 'Mike Jauranol',\n",
       " 'Mike Jauranol',\n",
       " 'Maximilian Schwarzmueller',\n",
       " 'Maximilian Schwarzmueller',\n",
       " 'Maximilian Schwarzmueller',\n",
       " 'Bernd Raucher',\n",
       " 'Maximilian Schwarzmueller']"
      ]
     },
     "execution_count": 37,
     "metadata": {},
     "output_type": "execute_result"
    }
   ],
   "source": [
    "save_data"
   ]
  },
  {
   "cell_type": "code",
   "execution_count": 39,
   "id": "b93a609f-197c-4d15-8a19-8aa7a5edceac",
   "metadata": {},
   "outputs": [],
   "source": [
    "with open('usernames_new.json', 'w') as file:\n",
    "    json.dump(save_data, file)"
   ]
  },
  {
   "cell_type": "code",
   "execution_count": null,
   "id": "46aa6749-20dc-44b4-9a03-e9c8623bffda",
   "metadata": {},
   "outputs": [],
   "source": []
  }
 ],
 "metadata": {
  "kernelspec": {
   "display_name": "Python 3",
   "language": "python",
   "name": "python3"
  },
  "language_info": {
   "codemirror_mode": {
    "name": "ipython",
    "version": 3
   },
   "file_extension": ".py",
   "mimetype": "text/x-python",
   "name": "python",
   "nbconvert_exporter": "python",
   "pygments_lexer": "ipython3",
   "version": "3.8.8"
  }
 },
 "nbformat": 4,
 "nbformat_minor": 5
}
