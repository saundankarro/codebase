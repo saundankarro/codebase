{
 "cells": [
  {
   "cell_type": "code",
   "execution_count": 2,
   "id": "69331006",
   "metadata": {},
   "outputs": [],
   "source": [
    "## Strip a string and give first three letters\n",
    "\n",
    "def f(s):\n",
    "    return s.strip()[:3]\n"
   ]
  },
  {
   "cell_type": "code",
   "execution_count": 3,
   "id": "94fcc0c1",
   "metadata": {},
   "outputs": [
    {
     "data": {
      "text/plain": [
       "'geo'"
      ]
     },
     "execution_count": 3,
     "metadata": {},
     "output_type": "execute_result"
    }
   ],
   "source": [
    "f('    geodaddy')"
   ]
  },
  {
   "cell_type": "code",
   "execution_count": 7,
   "id": "e25d44a6",
   "metadata": {},
   "outputs": [],
   "source": [
    "## Return list of numbers up to given int\n",
    "\n",
    "def l(n):\n",
    "    return list(range(n+1))"
   ]
  },
  {
   "cell_type": "code",
   "execution_count": 8,
   "id": "be743e55",
   "metadata": {},
   "outputs": [
    {
     "data": {
      "text/plain": [
       "[0, 1, 2, 3, 4, 5, 6, 7, 8]"
      ]
     },
     "execution_count": 8,
     "metadata": {},
     "output_type": "execute_result"
    }
   ],
   "source": [
    "l(8)"
   ]
  },
  {
   "cell_type": "code",
   "execution_count": 9,
   "id": "9789863b",
   "metadata": {},
   "outputs": [],
   "source": [
    "## Give average of ints in a given list\n",
    "\n",
    "def avg(xs):\n",
    "    return sum(xs)/len(xs)"
   ]
  },
  {
   "cell_type": "code",
   "execution_count": 10,
   "id": "d44189f7",
   "metadata": {},
   "outputs": [
    {
     "data": {
      "text/plain": [
       "4.0"
      ]
     },
     "execution_count": 10,
     "metadata": {},
     "output_type": "execute_result"
    }
   ],
   "source": [
    "xs = [1,2,3,4,5,6,7]\n",
    "\n",
    "avg(xs)"
   ]
  },
  {
   "cell_type": "code",
   "execution_count": 13,
   "id": "eca3d6ad",
   "metadata": {},
   "outputs": [],
   "source": [
    "## switch Plus and minus signs\n",
    "\n",
    "def switchsign(s):\n",
    "    return s.replace('-','+')"
   ]
  },
  {
   "cell_type": "code",
   "execution_count": 21,
   "id": "2e4964fe",
   "metadata": {},
   "outputs": [],
   "source": [
    "## Take 0 or more args and subtract last arg from total (if 0, return 0)\n",
    "\n",
    "def totalsubt(*args):\n",
    "    return sum(args[:])-args[-1]"
   ]
  },
  {
   "cell_type": "code",
   "execution_count": 46,
   "id": "0e10736a",
   "metadata": {},
   "outputs": [
    {
     "data": {
      "text/plain": [
       "0"
      ]
     },
     "execution_count": 46,
     "metadata": {},
     "output_type": "execute_result"
    }
   ],
   "source": [
    "totalsubt(0)"
   ]
  },
  {
   "cell_type": "code",
   "execution_count": 23,
   "id": "5c29bda0",
   "metadata": {},
   "outputs": [],
   "source": [
    "def totals(*args):\n",
    "    return sum(args[:])"
   ]
  },
  {
   "cell_type": "code",
   "execution_count": 24,
   "id": "070d2171",
   "metadata": {},
   "outputs": [
    {
     "name": "stdout",
     "output_type": "stream",
     "text": [
      "28\n",
      "21\n"
     ]
    }
   ],
   "source": [
    "print(totals(1,2,3,4,5,6,7))\n",
    "\n",
    "print(totals(1,2,3,4,5,6,7)-7)"
   ]
  },
  {
   "cell_type": "code",
   "execution_count": 25,
   "id": "d2850f84",
   "metadata": {},
   "outputs": [],
   "source": [
    "## Find hypotenuse of a right triangle given o and a are perpendicular sides\n",
    "\n",
    "def hypo(a,o):\n",
    "    import math\n",
    "    return math.hypot(o,a)"
   ]
  },
  {
   "cell_type": "code",
   "execution_count": 26,
   "id": "6b18d5cb",
   "metadata": {},
   "outputs": [
    {
     "data": {
      "text/plain": [
       "5.0"
      ]
     },
     "execution_count": 26,
     "metadata": {},
     "output_type": "execute_result"
    }
   ],
   "source": [
    "hypo(3,4)"
   ]
  },
  {
   "cell_type": "code",
   "execution_count": 27,
   "id": "356bffee",
   "metadata": {},
   "outputs": [],
   "source": [
    "# Given sequence L, return a reversed copy using slicing operator\n",
    "\n",
    "def rev(L):\n",
    "    return L[::-1]"
   ]
  },
  {
   "cell_type": "code",
   "execution_count": 28,
   "id": "0d2f6904",
   "metadata": {},
   "outputs": [
    {
     "data": {
      "text/plain": [
       "[5, 4, 3, 2, 1]"
      ]
     },
     "execution_count": 28,
     "metadata": {},
     "output_type": "execute_result"
    }
   ],
   "source": [
    "M = [1,2,3,4,5]\n",
    "\n",
    "rev(M)"
   ]
  },
  {
   "cell_type": "code",
   "execution_count": 30,
   "id": "2c85783b",
   "metadata": {},
   "outputs": [
    {
     "data": {
      "text/plain": [
       "[1, 2, 2, 2, 3, 4, 5]"
      ]
     },
     "execution_count": 30,
     "metadata": {},
     "output_type": "execute_result"
    }
   ],
   "source": [
    "# Modify list to insert 2 after its first element\n",
    "\n",
    "M.insert(1,2)\n",
    "M"
   ]
  },
  {
   "cell_type": "code",
   "execution_count": 31,
   "id": "2e7386ce",
   "metadata": {},
   "outputs": [
    {
     "data": {
      "text/plain": [
       "[]"
      ]
     },
     "execution_count": 31,
     "metadata": {},
     "output_type": "execute_result"
    }
   ],
   "source": [
    "# Remove all items from the list in place\n",
    "\n",
    "del M[:]\n",
    "\n",
    "M"
   ]
  },
  {
   "cell_type": "code",
   "execution_count": 33,
   "id": "9077e79a",
   "metadata": {},
   "outputs": [
    {
     "data": {
      "text/plain": [
       "[1, 3, 5, 7, 9]"
      ]
     },
     "execution_count": 33,
     "metadata": {},
     "output_type": "execute_result"
    }
   ],
   "source": [
    "# Return every other value from the list starting from second element\n",
    "\n",
    "M = [0,1,2,3,4,5,6,7,8,9]\n",
    "\n",
    "M[1::2]"
   ]
  },
  {
   "cell_type": "code",
   "execution_count": 34,
   "id": "66faff3a",
   "metadata": {},
   "outputs": [],
   "source": [
    "# Given a list containing an even number of elements, return a list of pairs as follows\n",
    "\n",
    "def Pair(xs):\n",
    "    return list(zip(xs[::2],xs[1::2]))"
   ]
  },
  {
   "cell_type": "code",
   "execution_count": 40,
   "id": "6af9070b",
   "metadata": {},
   "outputs": [
    {
     "data": {
      "text/plain": [
       "[(0, 1), (2, 3), (4, 5), (6, 7), (8, 9)]"
      ]
     },
     "execution_count": 40,
     "metadata": {},
     "output_type": "execute_result"
    }
   ],
   "source": [
    "N = Pair(M)\n",
    "N"
   ]
  },
  {
   "cell_type": "code",
   "execution_count": 36,
   "id": "f46fede2",
   "metadata": {},
   "outputs": [],
   "source": [
    "# Return the number of times None appears in the list\n",
    "\n",
    "def CountNone(cs):\n",
    "    return cs.count(None)"
   ]
  },
  {
   "cell_type": "code",
   "execution_count": 37,
   "id": "22ab8d2e",
   "metadata": {},
   "outputs": [
    {
     "data": {
      "text/plain": [
       "0"
      ]
     },
     "execution_count": 37,
     "metadata": {},
     "output_type": "execute_result"
    }
   ],
   "source": [
    "CountNone(M)"
   ]
  },
  {
   "cell_type": "code",
   "execution_count": 38,
   "id": "5dd0ef9b",
   "metadata": {},
   "outputs": [],
   "source": [
    "# Reverse the zip function. Given list containing tuples (a,b),\n",
    "# return a sqquence (a's, b's) where a's is a seq of all as and b's is a seq of the b\n",
    "\n",
    "def unzip(xs):\n",
    "    return list(zip(*xs))"
   ]
  },
  {
   "cell_type": "code",
   "execution_count": 41,
   "id": "3f772a3e",
   "metadata": {},
   "outputs": [
    {
     "data": {
      "text/plain": [
       "[(0, 2, 4, 6, 8), (1, 3, 5, 7, 9)]"
      ]
     },
     "execution_count": 41,
     "metadata": {},
     "output_type": "execute_result"
    }
   ],
   "source": [
    "unzip(N)"
   ]
  },
  {
   "cell_type": "code",
   "execution_count": 42,
   "id": "6e5cb90a",
   "metadata": {},
   "outputs": [],
   "source": [
    "# If any number in list is divisible by 3, return True, else return False\n",
    "\n",
    "def Divis(xs):\n",
    "    return any(filter(lambda x:x%3==0, xs))"
   ]
  },
  {
   "cell_type": "code",
   "execution_count": 43,
   "id": "bcc3a965",
   "metadata": {},
   "outputs": [
    {
     "data": {
      "text/plain": [
       "True"
      ]
     },
     "execution_count": 43,
     "metadata": {},
     "output_type": "execute_result"
    }
   ],
   "source": [
    "Divis(M)"
   ]
  },
  {
   "cell_type": "code",
   "execution_count": 44,
   "id": "2a8b87ec",
   "metadata": {},
   "outputs": [],
   "source": [
    "# Flatten a list of lists in a single statement\n",
    "def flat(xs):\n",
    "    return [j for i in xs for j in i]"
   ]
  },
  {
   "cell_type": "code",
   "execution_count": 45,
   "id": "2942ceca",
   "metadata": {},
   "outputs": [
    {
     "data": {
      "text/plain": [
       "[0, 1, 2, 3, 4, 5, 6, 7, 8, 9]"
      ]
     },
     "execution_count": 45,
     "metadata": {},
     "output_type": "execute_result"
    }
   ],
   "source": [
    "flat(N)"
   ]
  },
  {
   "cell_type": "code",
   "execution_count": null,
   "id": "f3a0f9f7",
   "metadata": {},
   "outputs": [],
   "source": [
    "# Given a list of 20, return a dict in such a way that the keys are the first 10 element\n",
    "# and values are the last 10 elements of lambda\n",
    "\n"
   ]
  }
 ],
 "metadata": {
  "kernelspec": {
   "display_name": "Python 3",
   "language": "python",
   "name": "python3"
  },
  "language_info": {
   "codemirror_mode": {
    "name": "ipython",
    "version": 3
   },
   "file_extension": ".py",
   "mimetype": "text/x-python",
   "name": "python",
   "nbconvert_exporter": "python",
   "pygments_lexer": "ipython3",
   "version": "3.8.8"
  }
 },
 "nbformat": 4,
 "nbformat_minor": 5
}
