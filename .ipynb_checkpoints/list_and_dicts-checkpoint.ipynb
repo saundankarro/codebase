{
 "cells": [
  {
   "cell_type": "code",
   "execution_count": 30,
   "id": "c689e9ef-17c5-415a-a411-5ee55abf8f04",
   "metadata": {},
   "outputs": [
    {
     "name": "stdout",
     "output_type": "stream",
     "text": [
      "[1, 4, 9, 16, 25]\n"
     ]
    }
   ],
   "source": [
    "squares = [1,4,9,16,25]\n",
    "print(squares)"
   ]
  },
  {
   "cell_type": "code",
   "execution_count": 31,
   "id": "b49bcbcf-e848-488e-a0be-4e6f10ccd10e",
   "metadata": {},
   "outputs": [
    {
     "name": "stdout",
     "output_type": "stream",
     "text": [
      "[4, 9, 16]\n"
     ]
    }
   ],
   "source": [
    "print(squares[1:4])"
   ]
  },
  {
   "cell_type": "code",
   "execution_count": 32,
   "id": "5f731e02-0825-4b3d-8fa6-284ac68c5de5",
   "metadata": {},
   "outputs": [
    {
     "name": "stdout",
     "output_type": "stream",
     "text": [
      "['elephant', 'peacock', 'lion', 'tiger', 'giraffe', 'alligator', 'rat']\n"
     ]
    }
   ],
   "source": [
    "animals = ['elephant', 'peacock', 'lion', 'tiger', 'giraffe', 'alligator', 'rat']\n",
    "print(animals)"
   ]
  },
  {
   "cell_type": "code",
   "execution_count": 33,
   "id": "85add6f0-6daf-4a9b-b9a3-c45de0d4defe",
   "metadata": {},
   "outputs": [
    {
     "name": "stdout",
     "output_type": "stream",
     "text": [
      "['elephant', 'peacock', 'lion', 'tiger', 'giraffe', 'alligator', 'rat', 'monkey', 'dog']\n"
     ]
    }
   ],
   "source": [
    "animals += ['monkey', 'dog']\n",
    "print(animals)"
   ]
  },
  {
   "cell_type": "code",
   "execution_count": 34,
   "id": "e4628075-21fa-42f5-911e-b208c0301baf",
   "metadata": {},
   "outputs": [
    {
     "name": "stdout",
     "output_type": "stream",
     "text": [
      "['elephant', 'peacock', 'lion', 'tiger', 'giraffe', 'alligator', 'rat', 'monkey', 'dog', 'dino']\n"
     ]
    }
   ],
   "source": [
    "animals.append('dino')\n",
    "print(animals)"
   ]
  },
  {
   "cell_type": "code",
   "execution_count": 35,
   "id": "16f691db-0dcd-4768-864b-89fb6e38fd11",
   "metadata": {},
   "outputs": [
    {
     "name": "stdout",
     "output_type": "stream",
     "text": [
      "['elephant', 'peacock', 'lion', 'tiger', 'giraffe', 'alligator', 'rat', 'monkey', 'dog', 'dinosaur']\n"
     ]
    }
   ],
   "source": [
    "# replace \"dino\" with \"dinosaur\"\n",
    "animals[9] = 'dinosaur'\n",
    "print(animals)"
   ]
  },
  {
   "cell_type": "code",
   "execution_count": 36,
   "id": "bc7eae59-53f3-4894-b1bb-4a1125072a8f",
   "metadata": {},
   "outputs": [],
   "source": [
    "animals[1:3] = ['cat']"
   ]
  },
  {
   "cell_type": "code",
   "execution_count": 37,
   "id": "248fd1d3-4e1f-4d07-b278-1c68dd67c9c9",
   "metadata": {},
   "outputs": [
    {
     "name": "stdout",
     "output_type": "stream",
     "text": [
      "['elephant', 'cat', 'tiger', 'giraffe', 'alligator', 'rat', 'monkey', 'dog', 'dinosaur']\n"
     ]
    }
   ],
   "source": [
    "print(animals)"
   ]
  },
  {
   "cell_type": "code",
   "execution_count": 38,
   "id": "0291ab4b-0e8e-43c6-867c-d2c38b19423d",
   "metadata": {},
   "outputs": [
    {
     "name": "stdout",
     "output_type": "stream",
     "text": [
      "['elephant', 'giraffe', 'alligator', 'rat', 'monkey', 'dog', 'dinosaur']\n"
     ]
    }
   ],
   "source": [
    "animals[1:3] = []\n",
    "print(animals)"
   ]
  },
  {
   "cell_type": "code",
   "execution_count": 39,
   "id": "350050ed-40fa-473f-a866-019203ed4f7d",
   "metadata": {},
   "outputs": [
    {
     "name": "stdout",
     "output_type": "stream",
     "text": [
      "26\n"
     ]
    }
   ],
   "source": [
    "alphabet = ('a', 'b', 'c', 'd', 'e', 'f', 'g', 'h', 'i', 'j', 'k', 'l', 'm', 'n', 'o', 'p', 'q', 'r', 's', 't', 'u', 'v', 'w', 'x', 'y', 'z')\n",
    "\n",
    "print(len(alphabet))"
   ]
  },
  {
   "cell_type": "code",
   "execution_count": 40,
   "id": "aa5470df-8507-4758-a8af-bb428540cb7b",
   "metadata": {},
   "outputs": [
    {
     "name": "stdout",
     "output_type": "stream",
     "text": [
      "{'John': 123, 'Jane': 234, 'Jerard': 345, 'Jill': 345}\n"
     ]
    }
   ],
   "source": [
    "phone_book = {'John' : 123, \"Jane\" : 234, \"Jerard\" : 345}\n",
    "\n",
    "phone_book[\"Jill\"] = 345\n",
    "print(phone_book)"
   ]
  },
  {
   "cell_type": "code",
   "execution_count": 41,
   "id": "ed885927-d295-47b3-91df-ede7abdec7db",
   "metadata": {},
   "outputs": [
    {
     "name": "stdout",
     "output_type": "stream",
     "text": [
      "{'Jane': 234, 'Jerard': 345, 'Jill': 345}\n"
     ]
    }
   ],
   "source": [
    "del phone_book[\"John\"]\n",
    "print(phone_book)"
   ]
  },
  {
   "cell_type": "code",
   "execution_count": 42,
   "id": "22eae414-1e4e-4647-b4d6-2a3b3c271f1b",
   "metadata": {},
   "outputs": [
    {
     "name": "stdout",
     "output_type": "stream",
     "text": [
      "234\n"
     ]
    }
   ],
   "source": [
    "print(phone_book[\"Jane\"])"
   ]
  },
  {
   "cell_type": "code",
   "execution_count": 43,
   "id": "856de6e8-b0b0-4055-919b-e54c721a00f2",
   "metadata": {},
   "outputs": [
    {
     "ename": "TypeError",
     "evalue": "can only concatenate str (not \"int\") to str",
     "output_type": "error",
     "traceback": [
      "\u001b[1;31m---------------------------------------------------------------------------\u001b[0m",
      "\u001b[1;31mTypeError\u001b[0m                                 Traceback (most recent call last)",
      "\u001b[1;32m<ipython-input-43-cc1c9eda3290>\u001b[0m in \u001b[0;36m<module>\u001b[1;34m\u001b[0m\n\u001b[1;32m----> 1\u001b[1;33m \u001b[0mprint\u001b[0m\u001b[1;33m(\u001b[0m\u001b[1;34m\"Jane's number:\"\u001b[0m \u001b[1;33m+\u001b[0m \u001b[0mphone_book\u001b[0m\u001b[1;33m[\u001b[0m\u001b[1;34m\"Jane\"\u001b[0m\u001b[1;33m]\u001b[0m\u001b[1;33m)\u001b[0m\u001b[1;33m\u001b[0m\u001b[1;33m\u001b[0m\u001b[0m\n\u001b[0m",
      "\u001b[1;31mTypeError\u001b[0m: can only concatenate str (not \"int\") to str"
     ]
    }
   ],
   "source": [
    "print(\"Jane's number:\" + phone_book[\"Jane\"])"
   ]
  },
  {
   "cell_type": "code",
   "execution_count": null,
   "id": "1dd779da-f779-4712-87b5-96f07ef1faac",
   "metadata": {},
   "outputs": [],
   "source": []
  }
 ],
 "metadata": {
  "kernelspec": {
   "display_name": "Python 3",
   "language": "python",
   "name": "python3"
  },
  "language_info": {
   "codemirror_mode": {
    "name": "ipython",
    "version": 3
   },
   "file_extension": ".py",
   "mimetype": "text/x-python",
   "name": "python",
   "nbconvert_exporter": "python",
   "pygments_lexer": "ipython3",
   "version": "3.8.8"
  }
 },
 "nbformat": 4,
 "nbformat_minor": 5
}
