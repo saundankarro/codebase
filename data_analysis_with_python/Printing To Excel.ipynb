{
 "cells": [
  {
   "cell_type": "code",
   "execution_count": 1,
   "id": "3ea0d5bd",
   "metadata": {},
   "outputs": [],
   "source": [
    "import requests\n",
    "import pandas as pd"
   ]
  },
  {
   "cell_type": "code",
   "execution_count": 9,
   "id": "84e4a90b",
   "metadata": {},
   "outputs": [],
   "source": [
    "def get_historic_price(symbol, exchange = 'bitfinex', after='2018-09-01'):\n",
    "    url = 'https://api.cryptowat.ch/markets/{exchange}/{symbol}usd/ohlc'.format(\n",
    "        symbol=symbol, exchange=exchange\n",
    "        )\n",
    "    resp = requests.get(url,params={\n",
    "        'periods':'3600',\n",
    "        'after':str(int(pd.Timestamp(after).timestamp()))\n",
    "    })\n",
    "    resp.raise_for_status()\n",
    "    data=resp.json()\n",
    "    df = pd.DataFrame(data['result']['3600'], columns=[\n",
    "        'CloseTime','OpenPrice','HighPrice','LowPrice','ClosePrice','Volume','NA'\n",
    "    ])\n",
    "    df['CloseTime'] = pd.to_datetime(df['CloseTime'], unit='s')\n",
    "    df.set_index('CloseTime', inplace=True)\n",
    "    return df"
   ]
  },
  {
   "cell_type": "code",
   "execution_count": 10,
   "id": "0b18ff9a",
   "metadata": {},
   "outputs": [
    {
     "data": {
      "text/plain": [
       "Timestamp('2021-10-27 13:59:42.029157')"
      ]
     },
     "execution_count": 10,
     "metadata": {},
     "output_type": "execute_result"
    }
   ],
   "source": [
    "last_week = (pd.Timestamp.now() - pd.offsets.Day(7))\n",
    "last_week"
   ]
  },
  {
   "cell_type": "code",
   "execution_count": 11,
   "id": "d752962d",
   "metadata": {},
   "outputs": [],
   "source": [
    "btc = get_historic_price('btc','bitstamp',after=last_week)"
   ]
  },
  {
   "cell_type": "code",
   "execution_count": 12,
   "id": "5c3af588",
   "metadata": {},
   "outputs": [],
   "source": [
    "eth = get_historic_price('eth','bitstamp',after=last_week)"
   ]
  },
  {
   "cell_type": "code",
   "execution_count": 13,
   "id": "3671dc69",
   "metadata": {},
   "outputs": [
    {
     "data": {
      "text/html": [
       "<div>\n",
       "<style scoped>\n",
       "    .dataframe tbody tr th:only-of-type {\n",
       "        vertical-align: middle;\n",
       "    }\n",
       "\n",
       "    .dataframe tbody tr th {\n",
       "        vertical-align: top;\n",
       "    }\n",
       "\n",
       "    .dataframe thead th {\n",
       "        text-align: right;\n",
       "    }\n",
       "</style>\n",
       "<table border=\"1\" class=\"dataframe\">\n",
       "  <thead>\n",
       "    <tr style=\"text-align: right;\">\n",
       "      <th></th>\n",
       "      <th>OpenPrice</th>\n",
       "      <th>HighPrice</th>\n",
       "      <th>LowPrice</th>\n",
       "      <th>ClosePrice</th>\n",
       "      <th>Volume</th>\n",
       "      <th>NA</th>\n",
       "    </tr>\n",
       "    <tr>\n",
       "      <th>CloseTime</th>\n",
       "      <th></th>\n",
       "      <th></th>\n",
       "      <th></th>\n",
       "      <th></th>\n",
       "      <th></th>\n",
       "      <th></th>\n",
       "    </tr>\n",
       "  </thead>\n",
       "  <tbody>\n",
       "    <tr>\n",
       "      <th>2021-10-27 14:00:00</th>\n",
       "      <td>59055.87</td>\n",
       "      <td>59360.08</td>\n",
       "      <td>58929.76</td>\n",
       "      <td>59059.28</td>\n",
       "      <td>110.466648</td>\n",
       "      <td>6.529886e+06</td>\n",
       "    </tr>\n",
       "    <tr>\n",
       "      <th>2021-10-27 15:00:00</th>\n",
       "      <td>59059.04</td>\n",
       "      <td>59518.03</td>\n",
       "      <td>58758.01</td>\n",
       "      <td>59199.04</td>\n",
       "      <td>96.032419</td>\n",
       "      <td>5.679354e+06</td>\n",
       "    </tr>\n",
       "    <tr>\n",
       "      <th>2021-10-27 16:00:00</th>\n",
       "      <td>59194.49</td>\n",
       "      <td>59395.69</td>\n",
       "      <td>58762.43</td>\n",
       "      <td>58851.28</td>\n",
       "      <td>153.148711</td>\n",
       "      <td>9.041247e+06</td>\n",
       "    </tr>\n",
       "    <tr>\n",
       "      <th>2021-10-27 17:00:00</th>\n",
       "      <td>58837.24</td>\n",
       "      <td>59088.64</td>\n",
       "      <td>58578.40</td>\n",
       "      <td>58913.76</td>\n",
       "      <td>103.850517</td>\n",
       "      <td>6.110943e+06</td>\n",
       "    </tr>\n",
       "    <tr>\n",
       "      <th>2021-10-27 18:00:00</th>\n",
       "      <td>58890.00</td>\n",
       "      <td>59210.39</td>\n",
       "      <td>58846.15</td>\n",
       "      <td>58949.22</td>\n",
       "      <td>70.683509</td>\n",
       "      <td>4.173706e+06</td>\n",
       "    </tr>\n",
       "  </tbody>\n",
       "</table>\n",
       "</div>"
      ],
      "text/plain": [
       "                     OpenPrice  HighPrice  LowPrice  ClosePrice      Volume  \\\n",
       "CloseTime                                                                     \n",
       "2021-10-27 14:00:00   59055.87   59360.08  58929.76    59059.28  110.466648   \n",
       "2021-10-27 15:00:00   59059.04   59518.03  58758.01    59199.04   96.032419   \n",
       "2021-10-27 16:00:00   59194.49   59395.69  58762.43    58851.28  153.148711   \n",
       "2021-10-27 17:00:00   58837.24   59088.64  58578.40    58913.76  103.850517   \n",
       "2021-10-27 18:00:00   58890.00   59210.39  58846.15    58949.22   70.683509   \n",
       "\n",
       "                               NA  \n",
       "CloseTime                          \n",
       "2021-10-27 14:00:00  6.529886e+06  \n",
       "2021-10-27 15:00:00  5.679354e+06  \n",
       "2021-10-27 16:00:00  9.041247e+06  \n",
       "2021-10-27 17:00:00  6.110943e+06  \n",
       "2021-10-27 18:00:00  4.173706e+06  "
      ]
     },
     "execution_count": 13,
     "metadata": {},
     "output_type": "execute_result"
    }
   ],
   "source": [
    "btc.head()"
   ]
  },
  {
   "cell_type": "code",
   "execution_count": 15,
   "id": "72d3d9dc",
   "metadata": {},
   "outputs": [
    {
     "data": {
      "text/plain": [
       "<AxesSubplot:xlabel='CloseTime'>"
      ]
     },
     "execution_count": 15,
     "metadata": {},
     "output_type": "execute_result"
    },
    {
     "data": {
      "image/png": "[encoded data removed]",
      "text/plain": [
       "<Figure size 1080x504 with 1 Axes>"
      ]
     },
     "metadata": {
      "needs_background": "light"
     },
     "output_type": "display_data"
    }
   ],
   "source": [
    "btc['ClosePrice'].plot(figsize=(15,7))"
   ]
  },
  {
   "cell_type": "code",
   "execution_count": 16,
   "id": "baf95202",
   "metadata": {},
   "outputs": [
    {
     "data": {
      "text/html": [
       "<div>\n",
       "<style scoped>\n",
       "    .dataframe tbody tr th:only-of-type {\n",
       "        vertical-align: middle;\n",
       "    }\n",
       "\n",
       "    .dataframe tbody tr th {\n",
       "        vertical-align: top;\n",
       "    }\n",
       "\n",
       "    .dataframe thead th {\n",
       "        text-align: right;\n",
       "    }\n",
       "</style>\n",
       "<table border=\"1\" class=\"dataframe\">\n",
       "  <thead>\n",
       "    <tr style=\"text-align: right;\">\n",
       "      <th></th>\n",
       "      <th>OpenPrice</th>\n",
       "      <th>HighPrice</th>\n",
       "      <th>LowPrice</th>\n",
       "      <th>ClosePrice</th>\n",
       "      <th>Volume</th>\n",
       "      <th>NA</th>\n",
       "    </tr>\n",
       "    <tr>\n",
       "      <th>CloseTime</th>\n",
       "      <th></th>\n",
       "      <th></th>\n",
       "      <th></th>\n",
       "      <th></th>\n",
       "      <th></th>\n",
       "      <th></th>\n",
       "    </tr>\n",
       "  </thead>\n",
       "  <tbody>\n",
       "    <tr>\n",
       "      <th>2021-10-27 14:00:00</th>\n",
       "      <td>4011.34</td>\n",
       "      <td>4033.18</td>\n",
       "      <td>3991.33</td>\n",
       "      <td>3996.65</td>\n",
       "      <td>746.139179</td>\n",
       "      <td>2.993271e+06</td>\n",
       "    </tr>\n",
       "    <tr>\n",
       "      <th>2021-10-27 15:00:00</th>\n",
       "      <td>3996.65</td>\n",
       "      <td>4043.39</td>\n",
       "      <td>3967.54</td>\n",
       "      <td>4016.75</td>\n",
       "      <td>776.306804</td>\n",
       "      <td>3.111154e+06</td>\n",
       "    </tr>\n",
       "    <tr>\n",
       "      <th>2021-10-27 16:00:00</th>\n",
       "      <td>4015.10</td>\n",
       "      <td>4038.59</td>\n",
       "      <td>3986.93</td>\n",
       "      <td>3998.57</td>\n",
       "      <td>359.426533</td>\n",
       "      <td>1.440979e+06</td>\n",
       "    </tr>\n",
       "    <tr>\n",
       "      <th>2021-10-27 17:00:00</th>\n",
       "      <td>3995.72</td>\n",
       "      <td>4010.81</td>\n",
       "      <td>3953.32</td>\n",
       "      <td>3977.76</td>\n",
       "      <td>1328.494303</td>\n",
       "      <td>5.294491e+06</td>\n",
       "    </tr>\n",
       "    <tr>\n",
       "      <th>2021-10-27 18:00:00</th>\n",
       "      <td>3980.17</td>\n",
       "      <td>4007.40</td>\n",
       "      <td>3975.13</td>\n",
       "      <td>3990.50</td>\n",
       "      <td>676.627282</td>\n",
       "      <td>2.699199e+06</td>\n",
       "    </tr>\n",
       "  </tbody>\n",
       "</table>\n",
       "</div>"
      ],
      "text/plain": [
       "                     OpenPrice  HighPrice  LowPrice  ClosePrice       Volume  \\\n",
       "CloseTime                                                                      \n",
       "2021-10-27 14:00:00    4011.34    4033.18   3991.33     3996.65   746.139179   \n",
       "2021-10-27 15:00:00    3996.65    4043.39   3967.54     4016.75   776.306804   \n",
       "2021-10-27 16:00:00    4015.10    4038.59   3986.93     3998.57   359.426533   \n",
       "2021-10-27 17:00:00    3995.72    4010.81   3953.32     3977.76  1328.494303   \n",
       "2021-10-27 18:00:00    3980.17    4007.40   3975.13     3990.50   676.627282   \n",
       "\n",
       "                               NA  \n",
       "CloseTime                          \n",
       "2021-10-27 14:00:00  2.993271e+06  \n",
       "2021-10-27 15:00:00  3.111154e+06  \n",
       "2021-10-27 16:00:00  1.440979e+06  \n",
       "2021-10-27 17:00:00  5.294491e+06  \n",
       "2021-10-27 18:00:00  2.699199e+06  "
      ]
     },
     "execution_count": 16,
     "metadata": {},
     "output_type": "execute_result"
    }
   ],
   "source": [
    "eth.head()"
   ]
  },
  {
   "cell_type": "code",
   "execution_count": 18,
   "id": "ce2a57ff",
   "metadata": {},
   "outputs": [
    {
     "data": {
      "text/plain": [
       "<AxesSubplot:xlabel='CloseTime'>"
      ]
     },
     "execution_count": 18,
     "metadata": {},
     "output_type": "execute_result"
    },
    {
     "data": {
      "image/png": "[encoded data removed]",
      "text/plain": [
       "<Figure size 1080x504 with 1 Axes>"
      ]
     },
     "metadata": {
      "needs_background": "light"
     },
     "output_type": "display_data"
    }
   ],
   "source": [
    "eth['ClosePrice'].plot(figsize=(15,7))"
   ]
  },
  {
   "cell_type": "code",
   "execution_count": 19,
   "id": "a60d8223",
   "metadata": {},
   "outputs": [
    {
     "data": {
      "text/html": [
       "<div>\n",
       "<style scoped>\n",
       "    .dataframe tbody tr th:only-of-type {\n",
       "        vertical-align: middle;\n",
       "    }\n",
       "\n",
       "    .dataframe tbody tr th {\n",
       "        vertical-align: top;\n",
       "    }\n",
       "\n",
       "    .dataframe thead th {\n",
       "        text-align: right;\n",
       "    }\n",
       "</style>\n",
       "<table border=\"1\" class=\"dataframe\">\n",
       "  <thead>\n",
       "    <tr style=\"text-align: right;\">\n",
       "      <th></th>\n",
       "      <th>OpenPrice</th>\n",
       "      <th>HighPrice</th>\n",
       "      <th>LowPrice</th>\n",
       "      <th>ClosePrice</th>\n",
       "      <th>Volume</th>\n",
       "      <th>NA</th>\n",
       "    </tr>\n",
       "  </thead>\n",
       "  <tbody>\n",
       "    <tr>\n",
       "      <th>count</th>\n",
       "      <td>173.000000</td>\n",
       "      <td>173.000000</td>\n",
       "      <td>173.000000</td>\n",
       "      <td>173.000000</td>\n",
       "      <td>173.000000</td>\n",
       "      <td>1.730000e+02</td>\n",
       "    </tr>\n",
       "    <tr>\n",
       "      <th>mean</th>\n",
       "      <td>61389.387803</td>\n",
       "      <td>61681.780925</td>\n",
       "      <td>61092.878266</td>\n",
       "      <td>61411.207283</td>\n",
       "      <td>110.864329</td>\n",
       "      <td>6.791716e+06</td>\n",
       "    </tr>\n",
       "    <tr>\n",
       "      <th>std</th>\n",
       "      <td>1235.372768</td>\n",
       "      <td>1209.700361</td>\n",
       "      <td>1292.963558</td>\n",
       "      <td>1223.713598</td>\n",
       "      <td>96.452921</td>\n",
       "      <td>5.842035e+06</td>\n",
       "    </tr>\n",
       "    <tr>\n",
       "      <th>min</th>\n",
       "      <td>58268.530000</td>\n",
       "      <td>58910.530000</td>\n",
       "      <td>56425.000000</td>\n",
       "      <td>58312.240000</td>\n",
       "      <td>22.113786</td>\n",
       "      <td>1.340272e+06</td>\n",
       "    </tr>\n",
       "    <tr>\n",
       "      <th>25%</th>\n",
       "      <td>60785.560000</td>\n",
       "      <td>61126.140000</td>\n",
       "      <td>60500.000000</td>\n",
       "      <td>60801.580000</td>\n",
       "      <td>53.623029</td>\n",
       "      <td>3.326496e+06</td>\n",
       "    </tr>\n",
       "    <tr>\n",
       "      <th>50%</th>\n",
       "      <td>61438.870000</td>\n",
       "      <td>61663.320000</td>\n",
       "      <td>61205.770000</td>\n",
       "      <td>61443.690000</td>\n",
       "      <td>87.227482</td>\n",
       "      <td>5.354482e+06</td>\n",
       "    </tr>\n",
       "    <tr>\n",
       "      <th>75%</th>\n",
       "      <td>62029.040000</td>\n",
       "      <td>62429.690000</td>\n",
       "      <td>61787.850000</td>\n",
       "      <td>62080.010000</td>\n",
       "      <td>128.504505</td>\n",
       "      <td>7.920032e+06</td>\n",
       "    </tr>\n",
       "    <tr>\n",
       "      <th>max</th>\n",
       "      <td>64092.250000</td>\n",
       "      <td>64300.000000</td>\n",
       "      <td>63628.150000</td>\n",
       "      <td>64097.430000</td>\n",
       "      <td>817.198710</td>\n",
       "      <td>4.828241e+07</td>\n",
       "    </tr>\n",
       "  </tbody>\n",
       "</table>\n",
       "</div>"
      ],
      "text/plain": [
       "          OpenPrice     HighPrice      LowPrice    ClosePrice      Volume  \\\n",
       "count    173.000000    173.000000    173.000000    173.000000  173.000000   \n",
       "mean   61389.387803  61681.780925  61092.878266  61411.207283  110.864329   \n",
       "std     1235.372768   1209.700361   1292.963558   1223.713598   96.452921   \n",
       "min    58268.530000  58910.530000  56425.000000  58312.240000   22.113786   \n",
       "25%    60785.560000  61126.140000  60500.000000  60801.580000   53.623029   \n",
       "50%    61438.870000  61663.320000  61205.770000  61443.690000   87.227482   \n",
       "75%    62029.040000  62429.690000  61787.850000  62080.010000  128.504505   \n",
       "max    64092.250000  64300.000000  63628.150000  64097.430000  817.198710   \n",
       "\n",
       "                 NA  \n",
       "count  1.730000e+02  \n",
       "mean   6.791716e+06  \n",
       "std    5.842035e+06  \n",
       "min    1.340272e+06  \n",
       "25%    3.326496e+06  \n",
       "50%    5.354482e+06  \n",
       "75%    7.920032e+06  \n",
       "max    4.828241e+07  "
      ]
     },
     "execution_count": 19,
     "metadata": {},
     "output_type": "execute_result"
    }
   ],
   "source": [
    "btc.describe()"
   ]
  },
  {
   "cell_type": "code",
   "execution_count": 20,
   "id": "3c9d5e98",
   "metadata": {},
   "outputs": [],
   "source": [
    "writer = pd.ExcelWriter('cryptos.xlsx')"
   ]
  },
  {
   "cell_type": "code",
   "execution_count": 21,
   "id": "a26dbf40",
   "metadata": {},
   "outputs": [],
   "source": [
    "btc.to_excel(writer, sheet_name='Bitcoin')\n",
    "eth.to_excel(writer, sheet_name='Ether')"
   ]
  },
  {
   "cell_type": "code",
   "execution_count": 22,
   "id": "26f82d89",
   "metadata": {},
   "outputs": [],
   "source": [
    "writer.save()"
   ]
  },
  {
   "cell_type": "code",
   "execution_count": null,
   "id": "79b2e5bb",
   "metadata": {},
   "outputs": [],
   "source": []
  },
  {
   "cell_type": "code",
   "execution_count": null,
   "id": "d62aee1e",
   "metadata": {},
   "outputs": [],
   "source": []
  }
 ],
 "metadata": {
  "kernelspec": {
   "display_name": "Python 3",
   "language": "python",
   "name": "python3"
  },
  "language_info": {
   "codemirror_mode": {
    "name": "ipython",
    "version": 3
   },
   "file_extension": ".py",
   "mimetype": "text/x-python",
   "name": "python",
   "nbconvert_exporter": "python",
   "pygments_lexer": "ipython3",
   "version": "3.8.8"
  }
 },
 "nbformat": 4,
 "nbformat_minor": 5
}
