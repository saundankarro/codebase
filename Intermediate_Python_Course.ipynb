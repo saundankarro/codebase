{
 "cells": [
  {
   "cell_type": "code",
   "execution_count": 19,
   "id": "f1582589-2727-4b11-b6ea-ba404769b060",
   "metadata": {},
   "outputs": [
    {
     "name": "stdout",
     "output_type": "stream",
     "text": [
      "['banana', 'cherry', 'apple']\n"
     ]
    }
   ],
   "source": [
    "#LISTS\n",
    "myList = ['banana', 'cherry', 'apple']\n",
    "\n",
    "print(myList)"
   ]
  },
  {
   "cell_type": "code",
   "execution_count": 20,
   "id": "f7eca8c0-1fb2-4a8d-ba15-29fea507ee0c",
   "metadata": {},
   "outputs": [
    {
     "name": "stdout",
     "output_type": "stream",
     "text": [
      "[]\n"
     ]
    }
   ],
   "source": [
    "mylist2 = list()\n",
    "\n",
    "print(mylist2)"
   ]
  },
  {
   "cell_type": "code",
   "execution_count": 21,
   "id": "1b84f555-eeba-4077-b115-0c8121113d66",
   "metadata": {},
   "outputs": [],
   "source": [
    "item = myList[1]"
   ]
  },
  {
   "cell_type": "code",
   "execution_count": 22,
   "id": "99d06df5-158c-4df9-bc92-10dda2c55c66",
   "metadata": {},
   "outputs": [
    {
     "name": "stdout",
     "output_type": "stream",
     "text": [
      "cherry\n"
     ]
    }
   ],
   "source": [
    "print(item)"
   ]
  },
  {
   "cell_type": "code",
   "execution_count": 23,
   "id": "8a952c0e-c8aa-493b-9aed-ce4506da48b7",
   "metadata": {},
   "outputs": [
    {
     "name": "stdout",
     "output_type": "stream",
     "text": [
      "0\n",
      "banana\n",
      "1\n",
      "cherry\n",
      "2\n",
      "apple\n"
     ]
    }
   ],
   "source": [
    "i = 0\n",
    "for item in myList:\n",
    "    print(i)\n",
    "    print(item)\n",
    "    i += 1"
   ]
  },
  {
   "cell_type": "code",
   "execution_count": 24,
   "id": "0e137909-1da3-4a94-91e8-d8feeacb95e9",
   "metadata": {},
   "outputs": [
    {
     "name": "stdout",
     "output_type": "stream",
     "text": [
      "[0, 0, 0, 0, 0]\n"
     ]
    }
   ],
   "source": [
    "myList = [0]*5\n",
    "print(myList)"
   ]
  },
  {
   "cell_type": "code",
   "execution_count": 25,
   "id": "17eebf88-9647-42ce-aca9-a3dcff99c6ec",
   "metadata": {},
   "outputs": [
    {
     "name": "stdout",
     "output_type": "stream",
     "text": [
      "[1, 2, 3, 4, 5]\n"
     ]
    }
   ],
   "source": [
    "mylist2 = [1,2,3,4,5]\n",
    "\n",
    "print(mylist2)"
   ]
  },
  {
   "cell_type": "code",
   "execution_count": 26,
   "id": "70278b6d-f8b7-4e87-a5b0-9e46b0de2d36",
   "metadata": {},
   "outputs": [
    {
     "name": "stdout",
     "output_type": "stream",
     "text": [
      "[0, 0, 0, 0, 0, 1, 2, 3, 4, 5]\n"
     ]
    }
   ],
   "source": [
    "newlist = myList + mylist2\n",
    "print(newlist)"
   ]
  },
  {
   "cell_type": "code",
   "execution_count": 27,
   "id": "32756233-1746-467a-874a-9a4978755e3b",
   "metadata": {},
   "outputs": [],
   "source": [
    "mylist = [1,2,3,4,5,6,7,8,9]\n",
    "\n",
    "a = mylist[::-1]"
   ]
  },
  {
   "cell_type": "code",
   "execution_count": 28,
   "id": "eaa2d8f9-268c-4d10-8d2b-62a8d30dbe53",
   "metadata": {},
   "outputs": [
    {
     "name": "stdout",
     "output_type": "stream",
     "text": [
      "[9, 8, 7, 6, 5, 4, 3, 2, 1]\n"
     ]
    }
   ],
   "source": [
    "print(a)"
   ]
  },
  {
   "cell_type": "code",
   "execution_count": 29,
   "id": "a108917c-5e55-47cd-964b-364df69bf647",
   "metadata": {},
   "outputs": [
    {
     "name": "stdout",
     "output_type": "stream",
     "text": [
      "['banana', 'cherry', 'apple']\n",
      "['banana', 'cherry', 'apple', 'lemon']\n"
     ]
    }
   ],
   "source": [
    "fruit = ['banana', 'cherry', 'apple']\n",
    "\n",
    "fruit1 = fruit.copy()\n",
    "\n",
    "fruit1.append('lemon')\n",
    "print(fruit)\n",
    "print(fruit1)"
   ]
  },
  {
   "cell_type": "code",
   "execution_count": 30,
   "id": "e7fbe6a0-9cf8-455c-b214-aeb9e40d7e76",
   "metadata": {},
   "outputs": [
    {
     "name": "stdout",
     "output_type": "stream",
     "text": [
      "[1, 2, 3, 4, 5, 6]\n",
      "[1, 4, 9, 16, 25, 36]\n"
     ]
    }
   ],
   "source": [
    "mynumlist = [1,2,3,4,5,6]\n",
    "\n",
    "b = [i*i for i in mynumlist]\n",
    "\n",
    "print(mynumlist)\n",
    "print(b)"
   ]
  },
  {
   "cell_type": "code",
   "execution_count": 31,
   "id": "6a11e9de-f27a-4d78-80c0-cb2e8a1958f8",
   "metadata": {},
   "outputs": [],
   "source": [
    "# TUPLES"
   ]
  },
  {
   "cell_type": "code",
   "execution_count": 32,
   "id": "c51b783f-1299-48f5-a887-420c1c228e35",
   "metadata": {},
   "outputs": [
    {
     "name": "stdout",
     "output_type": "stream",
     "text": [
      "('Max', 28, 'Boston')\n"
     ]
    }
   ],
   "source": [
    "mytuple = ('Max', 28, 'Boston')\n",
    "print(mytuple)"
   ]
  },
  {
   "cell_type": "code",
   "execution_count": 33,
   "id": "ccf5f26a-f461-48bd-b2ee-9d07b9716b92",
   "metadata": {},
   "outputs": [
    {
     "name": "stdout",
     "output_type": "stream",
     "text": [
      "2\n",
      "0\n"
     ]
    }
   ],
   "source": [
    "apple = ['a', 'p', 'p', 'l', 'e']\n",
    "\n",
    "print(apple.count('p'))\n",
    "print(apple.count('o'))"
   ]
  },
  {
   "cell_type": "code",
   "execution_count": null,
   "id": "083544d0-919c-4678-9846-028848573833",
   "metadata": {},
   "outputs": [],
   "source": []
  }
 ],
 "metadata": {
  "kernelspec": {
   "display_name": "Python 3",
   "language": "python",
   "name": "python3"
  },
  "language_info": {
   "codemirror_mode": {
    "name": "ipython",
    "version": 3
   },
   "file_extension": ".py",
   "mimetype": "text/x-python",
   "name": "python",
   "nbconvert_exporter": "python",
   "pygments_lexer": "ipython3",
   "version": "3.8.8"
  }
 },
 "nbformat": 4,
 "nbformat_minor": 5
}
